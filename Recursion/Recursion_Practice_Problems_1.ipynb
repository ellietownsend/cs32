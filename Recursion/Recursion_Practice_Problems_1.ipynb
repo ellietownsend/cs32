{
 "cells": [
  {
   "cell_type": "markdown",
   "id": "9da5a737-d838-4735-a7e9-099ca8cbd59c",
   "metadata": {},
   "source": [
    "# Recursion Practice Problems"
   ]
  },
  {
   "cell_type": "markdown",
   "id": "4281dfad-5c07-4d3d-90f8-e42c392a2f22",
   "metadata": {},
   "source": [
    "#### Problem 1: Write a recursive function that prints the numbers from 1 to n, one per line."
   ]
  },
  {
   "cell_type": "code",
   "execution_count": 9,
   "id": "fe5893f3-79ea-4010-b345-46c346741965",
   "metadata": {},
   "outputs": [],
   "source": [
    "#include <iostream>\n",
    "using namespace std;"
   ]
  },
  {
   "cell_type": "code",
   "execution_count": 6,
   "id": "bd34d225-b0a1-4c67-83db-12c9c4a42579",
   "metadata": {},
   "outputs": [
    {
     "name": "stdout",
     "output_type": "stream",
     "text": [
      "123"
     ]
    }
   ],
   "source": [
    "//Return Type: Void, we are printing output to the screen\n",
    "void printToN(int n){\n",
    "    //Base case\n",
    "    if(n <= 0){\n",
    "        return; \n",
    "    }\n",
    "    //n-1 to make the input smaller\n",
    "    printToN(n-1);\n",
    "    cout << n;\n",
    "}\n",
    "printToN(3);"
   ]
  },
  {
   "cell_type": "markdown",
   "id": "9581c4c9-a26e-4523-ada5-346fdce94406",
   "metadata": {},
   "source": [
    "The above prints in ascedning order. Why?\n",
    "- The cout function is called after the recursive function has built the call stack.\n",
    "- This means that the compiler will only print the values AFTER we have reached out base case, and we are unwinding the stack. \n",
    "- The call stack can be visualized as:\n",
    "\n",
    "  \n",
    "<img src = \"https://miro.medium.com/v2/resize:fit:1400/1*w4_XOAwGZxYbIab_CLFkZg.png\" alt = \"call stack\" width=200>"
   ]
  },
  {
   "cell_type": "markdown",
   "id": "5fad9aa4-ebfe-4f98-aba7-a6778a70cb36",
   "metadata": {},
   "source": [
    "#### Problem 2: Write a recursive function that prints the numbers from n down to 1, one per line."
   ]
  },
  {
   "cell_type": "code",
   "execution_count": 17,
   "id": "9e4d286e-1457-4cec-8b27-f25d2a9c9370",
   "metadata": {},
   "outputs": [
    {
     "name": "stdout",
     "output_type": "stream",
     "text": [
      "4321"
     ]
    }
   ],
   "source": [
    "void printToN2(int n){\n",
    "    //base case:\n",
    "    if(n<=0){\n",
    "        return;\n",
    "    }\n",
    "    cout << n;\n",
    "    //give a smaller input\n",
    "    printToN2(n-1);\n",
    "}\n",
    "printToN2(4);"
   ]
  },
  {
   "cell_type": "markdown",
   "id": "5b7e23cb-9935-49fa-9719-a2bdac365a29",
   "metadata": {},
   "source": [
    "The above prints in descending order. Why?\n",
    "- The function is printing the current state of n BEFORE the recursive call.\n",
    "- We are not waiting until the stack is complete to print anything out.\n"
   ]
  },
  {
   "cell_type": "markdown",
   "id": "9219f2e9-926c-4502-a1f2-59d9fe906308",
   "metadata": {},
   "source": [
    "#### Problem 3: Write a recursive function that returns the sum of all numbers from 1 to n."
   ]
  },
  {
   "cell_type": "code",
   "execution_count": 20,
   "id": "e28247c5-23c8-4407-9e96-7d3e6f86bb57",
   "metadata": {},
   "outputs": [
    {
     "name": "stdout",
     "output_type": "stream",
     "text": [
      "3"
     ]
    }
   ],
   "source": [
    "//Return Type: int, returning a sum of numbers\n",
    "int sum(int n){\n",
    "    //base case\n",
    "    if (n<=0){\n",
    "        return 0; // nothing left to add to the stack\n",
    "    }\n",
    "    //The recursive case needs to make the input smaller\n",
    "    return n + sum(n-1);\n",
    "}\n",
    "cout << sum(2);"
   ]
  },
  {
   "cell_type": "markdown",
   "id": "47a93c6f-755e-4dea-b189-215383bc9b1b",
   "metadata": {},
   "source": [
    "The above works. Why?\n",
    "- The return case does not execute until the unwiding of the stack.\n",
    "- The addition in \"return n + sum(n-1)\" works because \"sum(n-1)\" is replaced by what the stack on top of it returned. "
   ]
  },
  {
   "cell_type": "markdown",
   "id": "0d3eeada-061b-44b8-a73d-20241604c58e",
   "metadata": {},
   "source": [
    "#### Problem 4: Write a recursive function that returns the factorial of n. (i.e., n! = n * (n-1) * (n-2) * ... * 1)"
   ]
  },
  {
   "cell_type": "code",
   "execution_count": 9,
   "id": "fc6b4b1f-e079-41cb-bb7f-86ac81386c09",
   "metadata": {},
   "outputs": [
    {
     "name": "stdout",
     "output_type": "stream",
     "text": [
      "6"
     ]
    }
   ],
   "source": [
    "int myFactorial(int n){\n",
    "    //base case (when do I want it to stop adding to the stack):\n",
    "    if(n <= 1){\n",
    "        return 1;\n",
    "    }\n",
    "    //Recursive case\n",
    "    return n * myFactorial(n-1);\n",
    "}\n",
    "cout << myFactorial(3);"
   ]
  },
  {
   "cell_type": "code",
   "execution_count": null,
   "id": "02d9ae31-cd5a-4386-9ded-d672f926dc62",
   "metadata": {},
   "outputs": [],
   "source": []
  },
  {
   "cell_type": "markdown",
   "id": "bd1f0ec4-6d7f-478c-ac64-0933095ca3fa",
   "metadata": {},
   "source": [
    "In the above example we return 1 instead of 0 in the base case, why?\n",
    "- By returning 0, we would be multiplying 0 to our result, which would cause it all to be 0.\n",
    "- Lesson: We have to be careful about what we return, because it is considered as part of the equation."
   ]
  },
  {
   "cell_type": "code",
   "execution_count": 25,
   "id": "07314fd7-44ec-4400-8ee2-ae76e66f9ea7",
   "metadata": {},
   "outputs": [],
   "source": [
    "#include <iostream>\n",
    "using namespace std;"
   ]
  },
  {
   "cell_type": "markdown",
   "id": "972fb999-73df-42ff-b30c-167268fe7f4a",
   "metadata": {},
   "source": [
    "#### Problem 5: Write a recursive function that returns the nth number in the Fibonacci sequence. (Assume f(0) = 0, f(1) = 1, and f(n) = f(n-1) + f(n-2) for n > 1)"
   ]
  },
  {
   "cell_type": "code",
   "execution_count": 26,
   "id": "0835072c-f4db-48c2-ba43-13ea8ecc119e",
   "metadata": {},
   "outputs": [
    {
     "name": "stdout",
     "output_type": "stream",
     "text": [
      "8"
     ]
    }
   ],
   "source": [
    "int fibonacci(int n){\n",
    "    //base case\n",
    "    if(n <= 2){\n",
    "        return 1;\n",
    "    }\n",
    "    //Our recursive statment needs to make smaller calls\n",
    "    int sum = fibonacci(n-1) + fibonacci(n-2);\n",
    "    return sum;\n",
    "}\n",
    "cout << fibonacci(6);"
   ]
  },
  {
   "cell_type": "markdown",
   "id": "e0ce545d-0f29-43ee-8cac-0fa02a6021fb",
   "metadata": {},
   "source": [
    "Above we use two recursive calls, why?\n",
    "- The Fibonacci Sequense required we add the previous two numbers. We had to make two calls to the fibonacci sequense to access those numbers.\n",
    "- Our base case being 2 stops us trying to add two numbers that are not there at the bottom of our stack. We can retrun 1 because the fibonacci sequense's first two numbers are 1 (excluding 0)."
   ]
  },
  {
   "cell_type": "markdown",
   "id": "178de57c-b9f3-4044-97a6-cb78eb0fe20d",
   "metadata": {},
   "source": [
    "#### Problem 6: Write a recursive function that calculates the power of a number: compute base^exp (i.e., base raised to the exponent exp). Assume exp is a non-negative integer."
   ]
  },
  {
   "cell_type": "code",
   "execution_count": 17,
   "id": "5d9b2c26-34a1-4d77-9180-fb48723af9cc",
   "metadata": {},
   "outputs": [],
   "source": [
    "#include <iostream>\n",
    "using namespace std;"
   ]
  },
  {
   "cell_type": "code",
   "execution_count": 18,
   "id": "6e7e3565-9147-475a-998d-4d1ed8907569",
   "metadata": {},
   "outputs": [
    {
     "name": "stdout",
     "output_type": "stream",
     "text": [
      "8"
     ]
    }
   ],
   "source": [
    "//Return case: int, computing a base^exp\n",
    "int computeExponet(int base, int exponet){\n",
    "    if(exponet<=0){\n",
    "        return 1; // multiplication, dont want to return 0\n",
    "    }\n",
    "    //Recursive case, each time we get smaller\n",
    "    int smallerExponet = computeExponet(base, exponet -1);\n",
    "    return base * smallerExponet;\n",
    "    \n",
    "}\n",
    "cout << computeExponet(2,3);"
   ]
  },
  {
   "cell_type": "markdown",
   "id": "c28c149a-6fc6-4f86-970f-1398b2939b65",
   "metadata": {},
   "source": [
    "#### Problem 7: Write a recursive function that returns the number of digits in a positive integer n."
   ]
  },
  {
   "cell_type": "code",
   "execution_count": 9,
   "id": "b38cba1e-f4d3-4856-bf94-65c4858a761e",
   "metadata": {},
   "outputs": [],
   "source": [
    "#include <iostream>\n",
    "using namespace std;"
   ]
  },
  {
   "cell_type": "code",
   "execution_count": 10,
   "id": "f81dd3ce-57bc-4aa9-b95b-e0fb18a049c6",
   "metadata": {},
   "outputs": [
    {
     "name": "stdout",
     "output_type": "stream",
     "text": [
      "5"
     ]
    }
   ],
   "source": [
    "//Return an int\n",
    "int numOfDigits(int num){\n",
    "    // Base case: we have reached the 10's place\n",
    "    if(num < 10){\n",
    "        return 1;\n",
    "    }\n",
    "    return 1 + numOfDigits(num/10);\n",
    "}\n",
    "cout << numOfDigits(34545);"
   ]
  },
  {
   "cell_type": "markdown",
   "id": "46503d9f-8f97-4356-a9a3-984d24c72c50",
   "metadata": {},
   "source": [
    "How do we count iterations in recursion?\n",
    "- We add 1 to the recursive call. This works because all recursive calls placed on the stacks will also return a 1, accounting for their place on the stack. "
   ]
  },
  {
   "cell_type": "markdown",
   "id": "af4a2fc1-d68d-43b0-a360-96c8aed8f493",
   "metadata": {},
   "source": [
    "#### Problem 9: Write a recursive function that returns true if a string is a palindrome (reads the same forwards and backwards), and false otherwise."
   ]
  },
  {
   "cell_type": "code",
   "execution_count": 27,
   "id": "0eac62c3-4ad6-48ec-bdca-dd1f326f3c27",
   "metadata": {},
   "outputs": [],
   "source": [
    "#include <iostream>\n",
    "using namespace std;\n",
    "#include <string>\n",
    "#include <algorithm>"
   ]
  },
  {
   "cell_type": "code",
   "execution_count": 28,
   "id": "d55d6ed2-6fa4-423a-b45a-95bea0adb2bf",
   "metadata": {},
   "outputs": [
    {
     "name": "stdout",
     "output_type": "stream",
     "text": [
      "1"
     ]
    }
   ],
   "source": [
    "//Return type bool\n",
    "bool isPalindrome(string s, int start, int end){\n",
    "    //base case\n",
    "    if(start >= end){\n",
    "        return true;\n",
    "    }\n",
    "    if(s[start] == s[end]){\n",
    "        return isPalindrome(s,start + 1,end - 1);\n",
    "    }\n",
    "    \n",
    "    else{\n",
    "        return false;\n",
    "    } \n",
    "}\n",
    "string test = \"racecar\";\n",
    "cout << isPalindrome(test, 0, test.size()-1);"
   ]
  },
  {
   "cell_type": "markdown",
   "id": "d6cab2bd-6df6-46d4-b0a1-3a9d1ec1ce3c",
   "metadata": {},
   "source": [
    "Why do we include more than one parameter in the above example?\n",
    "- isPalindrome is unique because we return the same string every time, yet the indices we look at change.\n",
    "- We work our way to the middle of the string by slowly moving the start index inward (adding one) and moving out end index inward (subtracting one)."
   ]
  }
 ],
 "metadata": {
  "kernelspec": {
   "display_name": "C++17",
   "language": "C++17",
   "name": "xcpp17"
  },
  "language_info": {
   "codemirror_mode": "text/x-c++src",
   "file_extension": ".cpp",
   "mimetype": "text/x-c++src",
   "name": "c++",
   "version": "17"
  }
 },
 "nbformat": 4,
 "nbformat_minor": 5
}
