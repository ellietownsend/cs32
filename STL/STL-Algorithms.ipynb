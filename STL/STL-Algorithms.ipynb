{
 "cells": [
  {
   "cell_type": "markdown",
   "id": "ba8d76ff-0388-4c5a-939f-b2c9ff0ce8eb",
   "metadata": {},
   "source": [
    "# STL Algorithms"
   ]
  },
  {
   "cell_type": "markdown",
   "id": "d1bd610c-be3e-419e-bb22-2dd17e4fcba2",
   "metadata": {},
   "source": [
    "- Why use STL Algortihms?\n",
    "- How do STL Algortihms work?"
   ]
  },
  {
   "cell_type": "markdown",
   "id": "954504c9-b651-4dac-b426-2090ed8ae815",
   "metadata": {},
   "source": [
    "Lets say we have an array of ints, and we have to find the first int in an array that matches a value. We make the following function to complete this task. "
   ]
  },
  {
   "cell_type": "code",
   "execution_count": null,
   "id": "72deb712-f314-4283-a9c7-b0ddd0b4255a",
   "metadata": {},
   "outputs": [],
   "source": [
    "int* find(int *b, int *e, const int &target){\n",
    "    //Example of linear search\n",
    "    for( ; b != e; b++){\n",
    "    //e is representive of the pointer that is one past the end\n",
    "        if(*b == target){\n",
    "            break;\n",
    "        }\n",
    "        return b;\n",
    "    }\n",
    "}\n",
    "\n",
    "int main(){\n",
    "    int a[5] = {10,50,40,20,30};\n",
    "    int k;\n",
    "    cin >> k;\n",
    "    //Giving an element one past the end, STL convention\n",
    "    int*p = find(a, a+5, k);\n",
    "    if(p == a+5)\n",
    "        ... not found ...\n",
    "    else\n",
    "        ... found, p points to the first element with that value\n",
    "}"
   ]
  },
  {
   "cell_type": "markdown",
   "id": "01871e6e-e527-4f35-a40e-615fb0f92272",
   "metadata": {},
   "source": [
    "Typically when we are working with arrays, we give it: \n",
    "1. The array (comes in the form of a pointer)\n",
    "2. The number of items in the array to look at (how many elements it has)\n",
    "<img src = \"https://cdn.programiz.com/sites/tutorial2program/files/cpp-pointers-and-arrays.png\">\n",
    "\n",
    "**But in the STL...**\n",
    "1. The array (just like regular)\n",
    "2. A pointer/iterator just PAST the end.\n",
    "   - Why do we give a pointer just past the end? If a function is unable to return a valid pointer, it will return the pointer at the very end rather than a null pointer. AKA if a function cannot do it's job, it will return the iterator/pointer in the last position rather than a null pointer.\n",
    "  \n",
    "<img src=\"https://i.imgflip.com/9zn96d.jpg\">\n",
    "\n",
    "What impact does returning an object have?\n",
    "- There is no such concept in the STL as a null iterator\n",
    "- When performing a linear search, we say not equal \"!=\" instead of less than \"<=\" because we might be peforming a linear search of a linked list, in which case the memory would not be in the correct order. "
   ]
  },
  {
   "cell_type": "markdown",
   "id": "4deda7f1-185d-4f88-b43e-6752838a0ba3",
   "metadata": {},
   "source": [
    "#### Problems with the following template:\n",
    "- The current template setup suggest that \"T\" should be ALL OF THE SAME TYPE. This works when we give the method an int array to parse through, but not when we give it a string array to parse through. \n",
    "\n",
    "- Why does it not work with the string array?   \n",
    "It does not work with the string array because we are giving the function **two different arguments**. The first two are arrays filled with strings. They look something like: [hello] [hi], while the thris argument is a string literal, looking something like: [f][r][e][d]"
   ]
  },
  {
   "cell_type": "code",
   "execution_count": null,
   "id": "35b1a906-036a-4276-ae7e-5db4643b55de",
   "metadata": {},
   "outputs": [],
   "source": [
    "template<typename T>\n",
    "T* find(T* b, T* e, const T& target){\n",
    "    for( ; b != e; b++){\n",
    "        if(*b == target)\n",
    "            break;\n",
    "    return b;\n",
    "    }\n",
    "}\n",
    "\n",
    "int main(){\n",
    "    int a[5] = {10,50,40,20,30};\n",
    "    int k;\n",
    "    cin >> k;\n",
    "    //Giving an element one past the end, STL convention\n",
    "    int*p = find(a, a+5, k);\n",
    "    if(p == a+5)\n",
    "        ... not found ...\n",
    "    else\n",
    "        ... found, p points to the first element with that value\n",
    "\n",
    "    string sa[4] = {\"Lucy\", \"Ricky\", \"Fred\", \"Ethel\"};\n",
    "    string *sp = find(sa sa+4, \"Fred\");\n",
    "    //\"Fred\" is a string literal, an array of constant characters with a 0 at the end\n",
    "    //sa is an array full of strings\n",
    "}"
   ]
  },
  {
   "cell_type": "markdown",
   "id": "38a219dd-ad2d-4078-8978-784a02c1decf",
   "metadata": {},
   "source": [
    "#### Fixing the above algorithm:\n",
    "\n",
    "*Keep in mind: iterators are little objects that act as pointers*  \n",
    "\n",
    "1. The first two are the same type, but the last one can be a different type. To signify that we have TWO different types, we have to include both \"typenames\" in the template braquets.\n",
    "2. The name we give our typenames do not hold significance to the compiler, however they do hold significance to the reader when they are reading them, so we should give them names that mean something when they can like \"iter\". \"iter\" suggest that we take an iterator. "
   ]
  },
  {
   "cell_type": "code",
   "execution_count": null,
   "id": "bc3bd477-f747-4079-8aeb-6eafe07dc155",
   "metadata": {},
   "outputs": [],
   "source": [
    "template<typename Iter, typename T>\n",
    "//The typename does not mean anything to the computer, it it just to let the \n",
    "//human reader know the intent of the type\n",
    "T* find(Iter* b, Iter* e, const T& target){\n",
    "    for( ; b != e; b++){\n",
    "        if(*b == target)\n",
    "            break;\n",
    "    return b;\n",
    "    }\n",
    "}\n",
    "\n",
    "int main(){\n",
    "    int a[5] = {10,50,40,20,30};\n",
    "    int k;\n",
    "    cin >> k;\n",
    "    //Giving an element one past the end, STL convention\n",
    "    int*p = find(a, a+5, k);\n",
    "    if(p == a+5)\n",
    "        ... not found ...\n",
    "    else\n",
    "        ... found, p points to the first element with that value\n",
    "\n",
    "    string sa[4] = {\"Lucy\", \"Ricky\", \"Fred\", \"Ethel\"};\n",
    "    string *sp = find(sa sa+4, \"Fred\");\n",
    "    //\"Fred\" is a string literal, an array of constant characters with a 0 at the end\n",
    "    //sa is an array full of strings\n",
    "}"
   ]
  },
  {
   "cell_type": "markdown",
   "id": "5c5245c5-d2a8-4d0a-b157-24575ad66482",
   "metadata": {},
   "source": [
    "#### Passing functions as arguments\n",
    "- In C++ we can pass functions as arguments. This is done by soley putting the function name in the parenthesis. It is important to keep in mind **we are not calling the function, hence the exclusion of the parenthesis at the end**. We are simply passing the function.\n",
    "  \n",
    "- Since we are not calling the function in the argument, we are technically giving the machine code to where that function is. "
   ]
  },
  {
   "cell_type": "code",
   "execution_count": null,
   "id": "4862792f-55ff-4b55-acf9-0ffb72c51f4f",
   "metadata": {},
   "outputs": [],
   "source": [
    "//Steps to Writing a Template:\n",
    "//1. Write out template, plus the typenames of how many types this paritcular function requires\n",
    "template<typename Iter, typename Func>\n",
    "//2. Write what the function returns, the function name and what the function takes\n",
    "Iter find_if(Iter b, Iter e, Func f){\n",
    "    for( ; b != e; b++)\n",
    "        if(f(*b))\n",
    "            break;\n",
    "    return b;\n",
    "}"
   ]
  }
 ],
 "metadata": {
  "kernelspec": {
   "display_name": "C++17",
   "language": "C++17",
   "name": "xcpp17"
  },
  "language_info": {
   "codemirror_mode": "text/x-c++src",
   "file_extension": ".cpp",
   "mimetype": "text/x-c++src",
   "name": "c++",
   "version": "17"
  }
 },
 "nbformat": 4,
 "nbformat_minor": 5
}
