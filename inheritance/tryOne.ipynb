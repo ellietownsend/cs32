{
 "cells": [
  {
   "cell_type": "code",
   "execution_count": 1,
   "id": "c70ade1f-0490-4643-a863-79fb6f0fb7b9",
   "metadata": {},
   "outputs": [],
   "source": [
    "using namespace std;\n",
    "#include <iostream>"
   ]
  },
  {
   "cell_type": "code",
   "execution_count": 2,
   "id": "92261284-88c5-4840-b478-60e92a84a2b2",
   "metadata": {},
   "outputs": [
    {
     "name": "stdout",
     "output_type": "stream",
     "text": [
      "Hello World\n"
     ]
    }
   ],
   "source": [
    "cout <<\"Hello World\" << endl;"
   ]
  },
  {
   "cell_type": "code",
   "execution_count": null,
   "id": "b7dfc6fa-c7af-4dea-82fd-186a5b998ea2",
   "metadata": {},
   "outputs": [],
   "source": []
  }
 ],
 "metadata": {
  "kernelspec": {
   "display_name": "C++17",
   "language": "C++17",
   "name": "xcpp17"
  },
  "language_info": {
   "codemirror_mode": "text/x-c++src",
   "file_extension": ".cpp",
   "mimetype": "text/x-c++src",
   "name": "c++",
   "version": "17"
  }
 },
 "nbformat": 4,
 "nbformat_minor": 5
}
