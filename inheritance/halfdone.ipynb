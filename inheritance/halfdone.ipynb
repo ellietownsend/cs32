{
 "cells": [
  {
   "cell_type": "code",
   "execution_count": 4,
   "id": "6492bac5-dc3d-464c-bb8e-a18625793ffc",
   "metadata": {},
   "outputs": [
    {
     "name": "stdout",
     "output_type": "stream",
     "text": [
      "Hello World\n"
     ]
    }
   ],
   "source": [
    "using namespace std;\n",
    "#include <iostream>\n",
    "cout << \"Hello World\" << endl;"
   ]
  },
  {
   "cell_type": "code",
   "execution_count": 5,
   "id": "60509ddb-0663-499f-8b92-d021eb21a6ed",
   "metadata": {},
   "outputs": [],
   "source": [
    "//Template Functions and Class Templates"
   ]
  },
  {
   "cell_type": "code",
   "execution_count": 6,
   "id": "4b1aa606-384e-415d-8eec-badbb71a882b",
   "metadata": {},
   "outputs": [],
   "source": [
    "//Same function, different parameters\n",
    "//The means theyre different at the machine language level, but not at the c++ level"
   ]
  },
  {
   "cell_type": "code",
   "execution_count": null,
   "id": "08553fe2-dbcf-4c46-bcf3-acc33dae0a93",
   "metadata": {},
   "outputs": [],
   "source": [
    "//So we create a varaible that represnts any type we want to put in there\n",
    "//template is used as a keyword to tell the compiler \"hey im going to manufacture functions\"\n",
    "template<typename T>\n",
    "//T can be called anything\n",
    "//Follow this with the pattern of the function:\n",
    "template<typename T>\n",
    "T minimum(T a, T b){\n",
    "    if (a < b){\n",
    "        return a;\n",
    "    }\n",
    "    else{\n",
    "        return b;\n",
    "    }\n",
    "}\n",
    "//When the compiler sees a function of that name called it will ask \"Do I have something of this template?\"\n",
    "//Internally, it will create a function that matches the parameters it was given\n",
    "\n",
    "\n",
    "// So what has to happen?\n",
    "//1. The call matches some template: Does the template accept two different types? One type? IT DOES NOT DO CONVERSIONS\n",
    "//2. The instantiated template must compile\n",
    "//3. The instanitaed templtae must do what you want: If we give it two pointers, will it still be sucessful\n",
    "\n",
    "//If we want our function to be sucessful for all types, we can overload for a specfifc type that needs special reasoning like pointers\n",
    "//Overloading would work by just specifying a new return type and new parameters with the same function name\n",
    "\n",
    "//Two different types:\n",
    "template<typename T1, typename T2>\n",
    "T2 minimum(T1 a, T2, b){\n",
    "    if (a < b){\n",
    "        return a;\n",
    "    }\n",
    "    else{\n",
    "        return b;\n",
    "    }\n",
    "}"
   ]
  }
 ],
 "metadata": {
  "kernelspec": {
   "display_name": "C++17",
   "language": "C++17",
   "name": "xcpp17"
  },
  "language_info": {
   "codemirror_mode": "text/x-c++src",
   "file_extension": ".cpp",
   "mimetype": "text/x-c++src",
   "name": "c++",
   "version": "17"
  }
 },
 "nbformat": 4,
 "nbformat_minor": 5
}
