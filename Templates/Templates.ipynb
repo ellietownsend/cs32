{
 "cells": [
  {
   "cell_type": "markdown",
   "id": "bf1d9028-1b78-419d-9861-93f6e819c022",
   "metadata": {},
   "source": [
    "# Templates  \n",
    "```\n",
    "template<typename T>\n",
    "T functionName (T a, T b){\n",
    "    ...function code...\n",
    "}\n",
    "```\n",
    "Two different types:\n",
    "```\n",
    "template<typename T1, typename T2>\n",
    "T1 functionName(T1 a, T2 b){\n",
    "        ...\n",
    "}\n",
    "```\n",
    "- The keword \"template\" lets the compiler know we are writing a pattern that can be used to MANUFACTURE functions or classes, but we are not defining a function/class itself.\n",
    "  \n",
    "- The keyword \"typename\" lets the comiler know we would like to define something that is the name of a type. We can call it anything we like, in the example above we call it \"T\".\n",
    "  \n",
    "- Initally the compiler will process the code BUT NOT GENERATE MACHINE CODE. the compiler will generate machine code when it actucally needs to make these functions.\n",
    "\n",
    "- Templates help us avoid overloading a function simply for the fact of giving it a bunch of different possible argurment types.\n",
    "\n",
    "My template, my blueprint growing up:  \n",
    "<img src = \"https://i.pinimg.com/474x/d6/cd/88/d6cd8837466701d31a68dd9b60eb9ac9.jpg\" alt = \"template\" width= \"100\">\n"
   ]
  },
  {
   "cell_type": "markdown",
   "id": "e53e99d3-d178-4ec4-96e8-1952f36c8591",
   "metadata": {},
   "source": [
    "## The compiler as a Teacher\n",
    "<img src = \"https://pbs.twimg.com/profile_images/880102659130372097/76F-glVd_400x400.jpg\" alt= \"Mr.Esterman\" width = \"120\">\n",
    "- When the compiler generates a function/class, the compiler takes on a roll similar to a teacher. If we have the code below:"
   ]
  },
  {
   "cell_type": "code",
   "execution_count": null,
   "id": "2339210d-236b-4841-b1b8-f22c1f57c87f",
   "metadata": {},
   "outputs": [],
   "source": [
    "template <typename T>\n",
    "T minimum(T a, T b){\n",
    "    if(a < b){\n",
    "        return a;\n",
    "    }\n",
    "    else\n",
    "        return b;\n",
    "}\n",
    "int main(){\n",
    "int k;\n",
    "cin >> k;\n",
    "cout << minimum(k,10) / 2; // Minimum function mentioned\n",
    "double x;\n",
    "}"
   ]
  },
  {
   "cell_type": "markdown",
   "id": "a47b3516-6dd8-425d-9fd8-bbe42629aada",
   "metadata": {},
   "source": [
    "The compiler will notice the we have not yet initalized a miniumum function, but we have created a pattern called miniumum that has arguemtents that accept the same type within its arguments. It will proceed to generate a function based off the miniumum templare pattern, replacing \"T\" with the given type.  \n",
    "<img src = \"https://www.ashleigh-educationjourney.com/wp-content/uploads/2018/06/IMG_2457-scaled.jpg\" alt = \"lesson plan\" width = \"100\">\n",
    "\n",
    "It is similar to a teacher in the way teachers have general lesson plans that are meant to fit all years, but those lesson plans are simple templates. Good teachers should know how to assess and generate a new plan according to a specfifc class or group of students.\n",
    "\n",
    "The minimum functions the compiler generates will appear in out object file. It will not generate more than necessary (think, would a teacher create ANOTHER lesson plan for the same day and same class). We will also not have direct access to these functions. \n"
   ]
  },
  {
   "cell_type": "markdown",
   "id": "3bf11f82-c0cd-41f3-82e1-52ec984c8d00",
   "metadata": {},
   "source": [
    "## Template Argument Deduction\n",
    "1. **The call matches some template**.\n",
    "   - Common Pitfall: We call a function, that is made with a template, with arguments that DO NOT MATCH the template. Conversions are NOT CONSIDERED. So no int->double, double->int, shape->cirle. We need to give it  EXACTLY what it calls for (a reference to, a const, or a pointer to an AARAY will do). This will be a compilation error if not.\n",
    "     \n",
    "    <img src = \"https://cdn-useast1.kapwing.com/static/templates/theyre-the-same-picture-meme-template-full-f9cf8470.webp\" alt = \"theyre the same picture\" width = \"150\">  \n",
    "    \n",
    "    - If the class template has been matched, we can pass mismatched types when passing to functions of the class. \n",
    "2. **Instantaite template, must compile**.\n",
    "   - Common Pitfall: The function within the template is not written correctly, and it has nothing to do with the fact that its a template itself. \n",
    "5. **The instantiated template must do what you want**.\n",
    "   - Commone Pitfall: The function works in the sense that it runs, but it will not complete our goal of the function. This is similar to the last problem, except here it runs. "
   ]
  },
  {
   "cell_type": "markdown",
   "id": "fe258068-30e6-4b3a-b9d6-52fb2d53b3d6",
   "metadata": {},
   "source": [
    "## Overloading a Template\n",
    "- There will be times where a template will be unfit for specific parameters we want to give it. In this case we can overload the template by defining how a function should handle specific functions. "
   ]
  },
  {
   "cell_type": "code",
   "execution_count": null,
   "id": "6b559a2f-0f94-4846-9dbc-04db2f46eac0",
   "metadata": {},
   "outputs": [],
   "source": [
    "template <typename T>\n",
    "T minimum(T a, T b){\n",
    "    if(a < b){\n",
    "        return a;\n",
    "    }\n",
    "    else\n",
    "        return b;\n",
    "}\n",
    "char* minimum(char* a, char*b){\n",
    "    if(strcmp(a,b)< 0){\n",
    "        return a;\n",
    "    }\n",
    "    else\n",
    "        return b;\n",
    "}\n",
    "int main(){\n",
    "int k;\n",
    "cin >> k;\n",
    "cout << minimum(k,10) / 2; // Minimum function mentioned\n",
    "double x;\n",
    "}"
   ]
  },
  {
   "cell_type": "markdown",
   "id": "d02d8ba3-026e-447b-94cc-a154ac92ec1a",
   "metadata": {},
   "source": [
    "In the code above we have overloaded the miniumum function. If the compiler enounters a call to the minimum function with the overloaded function parameters, it will use that function, and not generate a new one based off the template. "
   ]
  },
  {
   "cell_type": "markdown",
   "id": "c7476b36-09ca-44a1-b649-319f5e3cbb34",
   "metadata": {},
   "source": [
    "## Passing by Value & Creating an Empty Value\n",
    "- In the above example, the templates have been passed by value, effectively creating copies of the values it was given. Copying is unecessary in most cases, so will want to modify our functions to look like the following code.\n",
    "\n",
    "- There may be times we want an \"empty\" value, such an empty string, or a setting a number to 0. To do this in a template function where were unsure of the specfific type we can say: typename(). "
   ]
  },
  {
   "cell_type": "code",
   "execution_count": null,
   "id": "18c3ad31-2a9b-432f-af34-d770415555e8",
   "metadata": {},
   "outputs": [],
   "source": [
    "template<typename T>\n",
    "T minimum(const T& a, const T& b){\n",
    "    if(a < b)\n",
    "        return a;\n",
    "    else\n",
    "        return b;\n",
    "}\n",
    "// If were passing an array:\n",
    "template<typename T>\n",
    "T minimum(const T a[], int n){\n",
    "    T total = T(); \n",
    "    for(int k = 0; k < n; k++)\n",
    "        total += a[k[;\n",
    "    return total;\n",
    "}"
   ]
  },
  {
   "cell_type": "markdown",
   "id": "e7f2cbc7-aeba-4260-94ed-53243f964217",
   "metadata": {},
   "source": [
    "## Templates can be Anything we Want: Function OR Classes\n",
    "<img src = \"https://y.yarn.co/5418f936-57ca-4be4-bdd3-dc8eaa23c187_text.gif\" alt = \"Megamind\" width = \"300\" > "
   ]
  },
  {
   "cell_type": "code",
   "execution_count": null,
   "id": "81e7abef-3851-446a-9689-51dbe116a534",
   "metadata": {},
   "outputs": [],
   "source": [
    "template<typename T>\n",
    "class Stack{\n",
    "    public:\n",
    "        ...\n",
    "        Stack();\n",
    "        void push(const T& x);\n",
    "        T top();\n",
    "    private:\n",
    "        T m_data[100];\n",
    "};\n",
    "\n",
    "//We must write template and typename before we use T\n",
    "template<typename T>\n",
    "Stack<T>::Stack():m_top(0){}\n",
    "\n",
    "template<typename T>\n",
    "void Stack<T>::push(const T& x){\n",
    "    m_data[m_top] = x;\n",
    "    m_top++;\n",
    "}"
   ]
  },
  {
   "cell_type": "code",
   "execution_count": null,
   "id": "beb7ad27-f226-4ddb-ac33-d8c1fa14f865",
   "metadata": {},
   "outputs": [],
   "source": []
  }
 ],
 "metadata": {
  "kernelspec": {
   "display_name": "C++17",
   "language": "C++17",
   "name": "xcpp17"
  },
  "language_info": {
   "codemirror_mode": "text/x-c++src",
   "file_extension": ".cpp",
   "mimetype": "text/x-c++src",
   "name": "c++",
   "version": "17"
  }
 },
 "nbformat": 4,
 "nbformat_minor": 5
}
